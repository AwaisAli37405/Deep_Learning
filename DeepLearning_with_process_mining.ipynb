{
  "nbformat": 4,
  "nbformat_minor": 0,
  "metadata": {
    "colab": {
      "provenance": [],
      "mount_file_id": "1cG5ozxkoKIB5Ka2NtioqAJdqXWfjiLiS",
      "authorship_tag": "ABX9TyOueBL1h+2COGoq7knIBjPW",
      "include_colab_link": true
    },
    "kernelspec": {
      "name": "python3",
      "display_name": "Python 3"
    },
    "language_info": {
      "name": "python"
    }
  },
  "cells": [
    {
      "cell_type": "markdown",
      "metadata": {
        "id": "view-in-github",
        "colab_type": "text"
      },
      "source": [
        "<a href=\"https://colab.research.google.com/github/AwaisAli37405/Deep_Learning/blob/master/DeepLearning_with_process_mining.ipynb\" target=\"_parent\"><img src=\"https://colab.research.google.com/assets/colab-badge.svg\" alt=\"Open In Colab\"/></a>"
      ]
    },
    {
      "cell_type": "code",
      "execution_count": null,
      "metadata": {
        "id": "MjcGiwqbbWHF"
      },
      "outputs": [],
      "source": [
        "# prompt: how to load datasets form the google drive\n",
        "\n",
        "from google.colab import drive\n",
        "drive.mount('/content/drive')\n",
        "import pandas as pd\n",
        "\n",
        "# Replace 'path/to/your/file.csv' with the actual path to your file in Google Drive\n",
        "file_path = '/content/drive/MyDrive/Colab Notebooks/event_logs'\n",
        "df = pd.read_csv(file_path)\n",
        "\n",
        "# Now you can work with the DataFrame 'df'\n",
        "print(df.head())\n"
      ]
    }
  ]
}