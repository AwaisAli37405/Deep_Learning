{
  "nbformat": 4,
  "nbformat_minor": 0,
  "metadata": {
    "colab": {
      "provenance": [],
      "authorship_tag": "ABX9TyNN9CLZx0UQjw9Fi2ceXbWB",
      "include_colab_link": true
    },
    "kernelspec": {
      "name": "python3",
      "display_name": "Python 3"
    },
    "language_info": {
      "name": "python"
    }
  },
  "cells": [
    {
      "cell_type": "markdown",
      "metadata": {
        "id": "view-in-github",
        "colab_type": "text"
      },
      "source": [
        "<a href=\"https://colab.research.google.com/github/AwaisAli37405/Deep_Learning/blob/master/Deep_learning%20with%20Tensorflow%20and%20Keras.ipynb\" target=\"_parent\"><img src=\"https://colab.research.google.com/assets/colab-badge.svg\" alt=\"Open In Colab\"/></a>"
      ]
    },
    {
      "cell_type": "markdown",
      "source": [
        "### TensorFlow Tensors"
      ],
      "metadata": {
        "id": "AriX1AW1tXQD"
      }
    },
    {
      "cell_type": "markdown",
      "source": [
        "- tensors are multidimensional arrays\n",
        "- ordered arrangement of numbers\n",
        "- Tensors could be of zero dimmention only if we have one element (e.g. 1) - 0D\n",
        "- Tensors could be of one dimmention ([2,0,-1]) - 1D\n",
        "- or a matrix or a 2D dimmentional matrix\n",
        "\n",
        "important:\n",
        "\n",
        "- to create a 1D array we stack up different 0D arrays, similarly to create 2D tensors we stack up multiple 1D arrays.\n",
        "- Tensors have what we call a shape\n",
        "- [2,0,-1] 1D tensor has a shape of (3,)\n",
        "- similarly for a 2D tensor we can have a shape of 4X3. (4,3)\n",
        "- for a 3D tensor (4,2,3) - 4 2D tensors, each 2D tensor has 2 rows and each row has 1D tensor of 3 cols\n"
      ],
      "metadata": {
        "id": "maaZUsz0tdUp"
      }
    },
    {
      "cell_type": "code",
      "source": [
        "# now lets see how tensors can be created using tensor flow\n",
        "import tensorflow as tf\n"
      ],
      "metadata": {
        "id": "r126Vf5quOHJ"
      },
      "execution_count": 1,
      "outputs": []
    },
    {
      "cell_type": "code",
      "source": [
        "tensor_zero_d = tf.constant(1)\n",
        "print(tensor_zero_d)"
      ],
      "metadata": {
        "colab": {
          "base_uri": "https://localhost:8080/"
        },
        "id": "G4-GFsXOwdXf",
        "outputId": "ccfa71f8-b285-400a-97e7-b120b6146c47"
      },
      "execution_count": 2,
      "outputs": [
        {
          "output_type": "stream",
          "name": "stdout",
          "text": [
            "tf.Tensor(1, shape=(), dtype=int32)\n"
          ]
        }
      ]
    },
    {
      "cell_type": "code",
      "source": [
        "tensor_one_d = tf.constant([1,2,3])\n",
        "print(tensor_one_d)"
      ],
      "metadata": {
        "colab": {
          "base_uri": "https://localhost:8080/"
        },
        "id": "-6xmZuo9wl9b",
        "outputId": "40e50856-38f3-439e-8df1-47a674b27fc3"
      },
      "execution_count": 3,
      "outputs": [
        {
          "output_type": "stream",
          "name": "stdout",
          "text": [
            "tf.Tensor([1 2 3], shape=(3,), dtype=int32)\n"
          ]
        }
      ]
    },
    {
      "cell_type": "code",
      "source": [
        "tensor_two_d = tf.constant([[1,2,3],[4,5,6]])\n",
        "print(tensor_two_d)"
      ],
      "metadata": {
        "colab": {
          "base_uri": "https://localhost:8080/"
        },
        "id": "4tIrSmu_w7X7",
        "outputId": "d38b4749-90fd-4cdb-dcdf-6c9cc15e6f96"
      },
      "execution_count": 4,
      "outputs": [
        {
          "output_type": "stream",
          "name": "stdout",
          "text": [
            "tf.Tensor(\n",
            "[[1 2 3]\n",
            " [4 5 6]], shape=(2, 3), dtype=int32)\n"
          ]
        }
      ]
    },
    {
      "cell_type": "code",
      "source": [
        "tensor_three_d = tf.constant([[[1,2,3],[4,5,6]],[[7,8,9],[10,11,12]]])\n",
        "print(tensor_three_d)"
      ],
      "metadata": {
        "colab": {
          "base_uri": "https://localhost:8080/"
        },
        "id": "SZaMiZEjxC9X",
        "outputId": "fa9477fa-9781-4c29-8dc8-5572ef06e221"
      },
      "execution_count": 5,
      "outputs": [
        {
          "output_type": "stream",
          "name": "stdout",
          "text": [
            "tf.Tensor(\n",
            "[[[ 1  2  3]\n",
            "  [ 4  5  6]]\n",
            "\n",
            " [[ 7  8  9]\n",
            "  [10 11 12]]], shape=(2, 2, 3), dtype=int32)\n"
          ]
        }
      ]
    },
    {
      "cell_type": "code",
      "source": [
        "# similarly:\n",
        "\n",
        "tensor_three_d.ndim"
      ],
      "metadata": {
        "colab": {
          "base_uri": "https://localhost:8080/"
        },
        "id": "dUG_6h4Oxj-5",
        "outputId": "26494cff-5ce5-4a9a-d52a-ce605cc81526"
      },
      "execution_count": 6,
      "outputs": [
        {
          "output_type": "execute_result",
          "data": {
            "text/plain": [
              "3"
            ]
          },
          "metadata": {},
          "execution_count": 6
        }
      ]
    },
    {
      "cell_type": "code",
      "source": [
        "tensor_three_d.shape"
      ],
      "metadata": {
        "colab": {
          "base_uri": "https://localhost:8080/"
        },
        "id": "oSxODS1I9W-6",
        "outputId": "3bf36d64-d476-4b6e-ef40-529f5ac6459f"
      },
      "execution_count": 7,
      "outputs": [
        {
          "output_type": "execute_result",
          "data": {
            "text/plain": [
              "TensorShape([2, 2, 3])"
            ]
          },
          "metadata": {},
          "execution_count": 7
        }
      ]
    },
    {
      "cell_type": "code",
      "source": [
        "# likewise to create a 4D tensor, we will see how many 3D tesors we have, then how many 2D tensors we have and then\n",
        "# then for every 2D tensors how many we have 1D tensor and then how many cols\n",
        "\n",
        "\n",
        "\n",
        "# Creating a 4D tensor\n",
        "tensor_four_d = tf.constant([\n",
        "    [  # First 3D tensor\n",
        "        [  # First 2D tensor in the first 3D tensor\n",
        "            [1, 2, 3],  # First 1D tensor in the first 2D tensor\n",
        "            [4, 5, 6]   # Second 1D tensor in the first 2D tensor\n",
        "        ],\n",
        "        [  # Second 2D tensor in the first 3D tensor\n",
        "            [7, 8, 9],  # First 1D tensor in the second 2D tensor\n",
        "            [10, 11, 12] # Second 1D tensor in the second 2D tensor\n",
        "        ]\n",
        "    ],\n",
        "    [  # Second 3D tensor\n",
        "        [  # First 2D tensor in the second 3D tensor\n",
        "            [13, 14, 15],  # First 1D tensor in the first 2D tensor\n",
        "            [16, 17, 18]   # Second 1D tensor in the first 2D tensor\n",
        "        ],\n",
        "        [  # Second 2D tensor in the second 3D tensor\n",
        "            [19, 20, 21],  # First 1D tensor in the second 2D tensor\n",
        "            [22, 23, 24]   # Second 1D tensor in the second 2D tensor\n",
        "        ]\n",
        "    ]\n",
        "])\n",
        "\n",
        "# Print the 4D tensor\n",
        "print(tensor_four_d)\n",
        "\n",
        "\n",
        "\n"
      ],
      "metadata": {
        "colab": {
          "base_uri": "https://localhost:8080/"
        },
        "id": "p9VYM97S9c8D",
        "outputId": "8637f989-f847-4c57-d1cc-44c3c9822d4f"
      },
      "execution_count": 8,
      "outputs": [
        {
          "output_type": "stream",
          "name": "stdout",
          "text": [
            "tf.Tensor(\n",
            "[[[[ 1  2  3]\n",
            "   [ 4  5  6]]\n",
            "\n",
            "  [[ 7  8  9]\n",
            "   [10 11 12]]]\n",
            "\n",
            "\n",
            " [[[13 14 15]\n",
            "   [16 17 18]]\n",
            "\n",
            "  [[19 20 21]\n",
            "   [22 23 24]]]], shape=(2, 2, 2, 3), dtype=int32)\n"
          ]
        }
      ]
    },
    {
      "cell_type": "markdown",
      "source": [
        "- when creating the tensors if we have any of the value in float then the type of tensor will be also in float"
      ],
      "metadata": {
        "id": "Qw4KVpRq-i80"
      }
    },
    {
      "cell_type": "code",
      "source": [
        "# casting tensor using tensor flow\n",
        "casted_one_d = tf.cast(tensor_one_d, dtype=tf.float16)\n",
        "print(tensor_one_d)\n",
        "print(casted_one_d)"
      ],
      "metadata": {
        "colab": {
          "base_uri": "https://localhost:8080/"
        },
        "id": "WBsPPYry-v6v",
        "outputId": "ceab5ee1-2b5c-4f21-c79f-d80df1adbdb0"
      },
      "execution_count": 9,
      "outputs": [
        {
          "output_type": "stream",
          "name": "stdout",
          "text": [
            "tf.Tensor([1 2 3], shape=(3,), dtype=int32)\n",
            "tf.Tensor([1. 2. 3.], shape=(3,), dtype=float16)\n"
          ]
        }
      ]
    },
    {
      "cell_type": "code",
      "source": [
        "# converitng to tensors\n",
        "import numpy as np\n",
        "numpy_array = np.array([1,2,3])\n",
        "print(numpy_array)\n",
        "\n",
        "numpy_tensor = tf.convert_to_tensor(numpy_array)\n",
        "print(numpy_tensor)\n",
        "\n",
        "\n"
      ],
      "metadata": {
        "colab": {
          "base_uri": "https://localhost:8080/"
        },
        "id": "3uLpuhXhCOBc",
        "outputId": "6c182f07-88a5-45a9-ba58-07cb5f8a0170"
      },
      "execution_count": 10,
      "outputs": [
        {
          "output_type": "stream",
          "name": "stdout",
          "text": [
            "[1 2 3]\n",
            "tf.Tensor([1 2 3], shape=(3,), dtype=int64)\n"
          ]
        }
      ]
    },
    {
      "cell_type": "code",
      "source": [
        "# creating the identity matrix using tf.eye\n",
        "\n",
        "identify_matrix = tf.eye(num_rows=5, num_columns=3,batch_shape=[2])\n",
        "print(identify_matrix)\n",
        "#"
      ],
      "metadata": {
        "colab": {
          "base_uri": "https://localhost:8080/"
        },
        "id": "C2gf9b1MCoJ2",
        "outputId": "aba8fe7a-6aae-4135-8692-ca378faeb039"
      },
      "execution_count": 11,
      "outputs": [
        {
          "output_type": "stream",
          "name": "stdout",
          "text": [
            "tf.Tensor(\n",
            "[[[1. 0. 0.]\n",
            "  [0. 1. 0.]\n",
            "  [0. 0. 1.]\n",
            "  [0. 0. 0.]\n",
            "  [0. 0. 0.]]\n",
            "\n",
            " [[1. 0. 0.]\n",
            "  [0. 1. 0.]\n",
            "  [0. 0. 1.]\n",
            "  [0. 0. 0.]\n",
            "  [0. 0. 0.]]], shape=(2, 5, 3), dtype=float32)\n"
          ]
        }
      ]
    },
    {
      "cell_type": "code",
      "source": [
        "filled_tensor = tf.fill([2,3], 9)\n",
        "print(filled_tensor)"
      ],
      "metadata": {
        "colab": {
          "base_uri": "https://localhost:8080/"
        },
        "id": "bFUyiVOzDCn1",
        "outputId": "d6b3ad00-7446-4bf3-fb4e-d1a9fd48d08f"
      },
      "execution_count": 12,
      "outputs": [
        {
          "output_type": "stream",
          "name": "stdout",
          "text": [
            "tf.Tensor(\n",
            "[[9 9 9]\n",
            " [9 9 9]], shape=(2, 3), dtype=int32)\n"
          ]
        }
      ]
    },
    {
      "cell_type": "code",
      "source": [
        "ones_tensor = tf.ones([2,3])\n",
        "print(ones_tensor)"
      ],
      "metadata": {
        "colab": {
          "base_uri": "https://localhost:8080/"
        },
        "id": "bIVXk3D5GMcy",
        "outputId": "30290ba8-b820-4c0c-f6c0-762429222f46"
      },
      "execution_count": 13,
      "outputs": [
        {
          "output_type": "stream",
          "name": "stdout",
          "text": [
            "tf.Tensor(\n",
            "[[1. 1. 1.]\n",
            " [1. 1. 1.]], shape=(2, 3), dtype=float32)\n"
          ]
        }
      ]
    },
    {
      "cell_type": "code",
      "source": [
        "tensor_oneslike = tf.ones_like(tensor_one_d)\n",
        "print(tensor_oneslike)"
      ],
      "metadata": {
        "colab": {
          "base_uri": "https://localhost:8080/"
        },
        "id": "kHfm13ZvGSaa",
        "outputId": "a11d45b1-3c52-4d84-df01-60060bc00c37"
      },
      "execution_count": 14,
      "outputs": [
        {
          "output_type": "stream",
          "name": "stdout",
          "text": [
            "tf.Tensor([1 1 1], shape=(3,), dtype=int32)\n"
          ]
        }
      ]
    },
    {
      "cell_type": "code",
      "source": [
        "range_tensor = tf.range(start=1, limit=10, delta=2)\n",
        "print(range_tensor)"
      ],
      "metadata": {
        "colab": {
          "base_uri": "https://localhost:8080/"
        },
        "id": "poVKzN-3H6F9",
        "outputId": "d01285af-59eb-4cdc-a43f-4c0970d3cb7b"
      },
      "execution_count": 15,
      "outputs": [
        {
          "output_type": "stream",
          "name": "stdout",
          "text": [
            "tf.Tensor([1 3 5 7 9], shape=(5,), dtype=int32)\n"
          ]
        }
      ]
    },
    {
      "cell_type": "code",
      "source": [
        "# size gives the number of elements\n",
        "size_tensor = tf.size(range_tensor)\n",
        "print(size_tensor)"
      ],
      "metadata": {
        "colab": {
          "base_uri": "https://localhost:8080/"
        },
        "id": "3NW5razwIM0i",
        "outputId": "138b979a-ba39-4c3b-aeb3-204f6132a364"
      },
      "execution_count": 16,
      "outputs": [
        {
          "output_type": "stream",
          "name": "stdout",
          "text": [
            "tf.Tensor(5, shape=(), dtype=int32)\n"
          ]
        }
      ]
    },
    {
      "cell_type": "code",
      "source": [
        "print(tf.size(tensor_four_d))"
      ],
      "metadata": {
        "colab": {
          "base_uri": "https://localhost:8080/"
        },
        "id": "fX12ObWjIgve",
        "outputId": "a2830606-1248-4b59-886b-32e53d5594a7"
      },
      "execution_count": 17,
      "outputs": [
        {
          "output_type": "stream",
          "name": "stdout",
          "text": [
            "tf.Tensor(24, shape=(), dtype=int32)\n"
          ]
        }
      ]
    },
    {
      "cell_type": "code",
      "source": [
        "tf.random.Generator.from_non_deterministic_state().normal(shape=(2,3))"
      ],
      "metadata": {
        "colab": {
          "base_uri": "https://localhost:8080/"
        },
        "id": "zh0cSjFlIlkA",
        "outputId": "f0d654a8-603e-4f0f-d8c7-d6092dd1269f"
      },
      "execution_count": 18,
      "outputs": [
        {
          "output_type": "execute_result",
          "data": {
            "text/plain": [
              "<tf.Tensor: shape=(2, 3), dtype=float32, numpy=\n",
              "array([[ 2.8992274 , -0.36461154,  0.12102491],\n",
              "       [-1.0935173 , -3.5754175 ,  1.5185989 ]], dtype=float32)>"
            ]
          },
          "metadata": {},
          "execution_count": 18
        }
      ]
    },
    {
      "cell_type": "code",
      "source": [
        "tf.random.Generator.from_seed(42).normal(shape=(2,3))# we will get the same random numbers every time we run"
      ],
      "metadata": {
        "colab": {
          "base_uri": "https://localhost:8080/"
        },
        "id": "umvpchonJOVA",
        "outputId": "34e5ed41-aa39-4623-e1f7-b0fab782ea4d"
      },
      "execution_count": 19,
      "outputs": [
        {
          "output_type": "execute_result",
          "data": {
            "text/plain": [
              "<tf.Tensor: shape=(2, 3), dtype=float32, numpy=\n",
              "array([[-0.7565803 , -0.06854702,  0.07595026],\n",
              "       [-1.2573844 , -0.23193763, -1.8107855 ]], dtype=float32)>"
            ]
          },
          "metadata": {},
          "execution_count": 19
        }
      ]
    },
    {
      "cell_type": "markdown",
      "source": [
        "## Indexing in Tensorflow"
      ],
      "metadata": {
        "id": "WXZh11BNfHeF"
      }
    },
    {
      "cell_type": "code",
      "source": [
        "tf.range(0,5)"
      ],
      "metadata": {
        "colab": {
          "base_uri": "https://localhost:8080/"
        },
        "id": "B2OKvU7TJSL1",
        "outputId": "b513da2f-b9ba-40cc-d548-69ff81cd17a6"
      },
      "execution_count": 21,
      "outputs": [
        {
          "output_type": "execute_result",
          "data": {
            "text/plain": [
              "<tf.Tensor: shape=(5,), dtype=int32, numpy=array([0, 1, 2, 3, 4], dtype=int32)>"
            ]
          },
          "metadata": {},
          "execution_count": 21
        }
      ]
    },
    {
      "cell_type": "code",
      "source": [
        "tensor_one_d.shape\n"
      ],
      "metadata": {
        "id": "kWCqCD2Lf3Qj",
        "outputId": "22cc2fff-6fff-4eef-bae2-ef5323bd04d4",
        "colab": {
          "base_uri": "https://localhost:8080/"
        }
      },
      "execution_count": 27,
      "outputs": [
        {
          "output_type": "execute_result",
          "data": {
            "text/plain": [
              "TensorShape([3])"
            ]
          },
          "metadata": {},
          "execution_count": 27
        }
      ]
    },
    {
      "cell_type": "code",
      "source": [
        "tensor_one_d[0:1]"
      ],
      "metadata": {
        "id": "gObTJl7OhvZh",
        "outputId": "e9d73371-a99f-43ad-af2c-dd62cf29f9ae",
        "colab": {
          "base_uri": "https://localhost:8080/"
        }
      },
      "execution_count": 28,
      "outputs": [
        {
          "output_type": "execute_result",
          "data": {
            "text/plain": [
              "<tf.Tensor: shape=(1,), dtype=int32, numpy=array([1], dtype=int32)>"
            ]
          },
          "metadata": {},
          "execution_count": 28
        }
      ]
    },
    {
      "cell_type": "code",
      "source": [
        "tensor_two_d"
      ],
      "metadata": {
        "id": "MabAzFcUiK2t",
        "outputId": "c7fa249d-007e-4fb8-870c-06b11c087a00",
        "colab": {
          "base_uri": "https://localhost:8080/"
        }
      },
      "execution_count": 29,
      "outputs": [
        {
          "output_type": "execute_result",
          "data": {
            "text/plain": [
              "<tf.Tensor: shape=(2, 3), dtype=int32, numpy=\n",
              "array([[1, 2, 3],\n",
              "       [4, 5, 6]], dtype=int32)>"
            ]
          },
          "metadata": {},
          "execution_count": 29
        }
      ]
    },
    {
      "cell_type": "code",
      "source": [
        "tensor_two_d[0,0:2]"
      ],
      "metadata": {
        "id": "CLZ-sIhsiNcZ",
        "outputId": "cd323109-e070-441e-9d0c-ee8518e798b4",
        "colab": {
          "base_uri": "https://localhost:8080/"
        }
      },
      "execution_count": 30,
      "outputs": [
        {
          "output_type": "execute_result",
          "data": {
            "text/plain": [
              "<tf.Tensor: shape=(2,), dtype=int32, numpy=array([1, 2], dtype=int32)>"
            ]
          },
          "metadata": {},
          "execution_count": 30
        }
      ]
    },
    {
      "cell_type": "code",
      "source": [
        "tensor_four_d\n"
      ],
      "metadata": {
        "id": "OwVQ_u9FiSre",
        "outputId": "3efc9015-8e2f-4ede-92fe-79f821c34803",
        "colab": {
          "base_uri": "https://localhost:8080/"
        }
      },
      "execution_count": 31,
      "outputs": [
        {
          "output_type": "execute_result",
          "data": {
            "text/plain": [
              "<tf.Tensor: shape=(2, 2, 2, 3), dtype=int32, numpy=\n",
              "array([[[[ 1,  2,  3],\n",
              "         [ 4,  5,  6]],\n",
              "\n",
              "        [[ 7,  8,  9],\n",
              "         [10, 11, 12]]],\n",
              "\n",
              "\n",
              "       [[[13, 14, 15],\n",
              "         [16, 17, 18]],\n",
              "\n",
              "        [[19, 20, 21],\n",
              "         [22, 23, 24]]]], dtype=int32)>"
            ]
          },
          "metadata": {},
          "execution_count": 31
        }
      ]
    },
    {
      "cell_type": "code",
      "source": [
        "tensor_four_d[:, 0, 0, :]"
      ],
      "metadata": {
        "id": "V4PkzPisiWkz",
        "outputId": "f18542c6-3817-4b00-c52a-7e9bb7dbd144",
        "colab": {
          "base_uri": "https://localhost:8080/"
        }
      },
      "execution_count": 41,
      "outputs": [
        {
          "output_type": "execute_result",
          "data": {
            "text/plain": [
              "<tf.Tensor: shape=(2, 3), dtype=int32, numpy=\n",
              "array([[ 1,  2,  3],\n",
              "       [13, 14, 15]], dtype=int32)>"
            ]
          },
          "metadata": {},
          "execution_count": 41
        }
      ]
    },
    {
      "cell_type": "markdown",
      "source": [
        "## Tensorflow Linear algebra Operations"
      ],
      "metadata": {
        "id": "RSZkILDvqhzz"
      }
    },
    {
      "cell_type": "code",
      "source": [],
      "metadata": {
        "id": "FG6IqfHXih6G"
      },
      "execution_count": 35,
      "outputs": []
    }
  ]
}