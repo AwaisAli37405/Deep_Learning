{
  "nbformat": 4,
  "nbformat_minor": 0,
  "metadata": {
    "colab": {
      "provenance": [],
      "authorship_tag": "ABX9TyNW1tJXYqpyXRfkoHWnU/O+",
      "include_colab_link": true
    },
    "kernelspec": {
      "name": "python3",
      "display_name": "Python 3"
    },
    "language_info": {
      "name": "python"
    }
  },
  "cells": [
    {
      "cell_type": "markdown",
      "metadata": {
        "id": "view-in-github",
        "colab_type": "text"
      },
      "source": [
        "<a href=\"https://colab.research.google.com/github/AwaisAli37405/Deep_Learning/blob/master/Deep_learning%20with%20Tensorflow%20and%20Keras.ipynb\" target=\"_parent\"><img src=\"https://colab.research.google.com/assets/colab-badge.svg\" alt=\"Open In Colab\"/></a>"
      ]
    },
    {
      "cell_type": "markdown",
      "source": [
        "### TensorFlow Tensors"
      ],
      "metadata": {
        "id": "AriX1AW1tXQD"
      }
    },
    {
      "cell_type": "markdown",
      "source": [
        "- tensors are multidimensional arrays\n",
        "- ordered arrangement of numbers\n",
        "- Tensors could be of zero dimmention only if we have one element (e.g. 1) - 0D\n",
        "- Tensors could be of one dimmention ([2,0,-1]) - 1D\n",
        "- or a matrix or a 2D dimmentional matrix\n",
        "\n",
        "important:\n",
        "\n",
        "- to create a 1D array we stack up different 0D arrays, similarly to create 2D tensors we stack up multiple 1D arrays.\n",
        "- Tensors have what we call a shape\n",
        "- [2,0,-1] 1D tensor has a shape of (3,)\n",
        "- similarly for a 2D tensor we can have a shape of 4X3. (4,3)\n",
        "- for a 3D tensor (4,2,3) - 4 2D tensors, each 2D tensor has 2 rows and each row has 1D tensor of 3 cols\n"
      ],
      "metadata": {
        "id": "maaZUsz0tdUp"
      }
    },
    {
      "cell_type": "code",
      "source": [],
      "metadata": {
        "id": "r126Vf5quOHJ"
      },
      "execution_count": null,
      "outputs": []
    }
  ]
}