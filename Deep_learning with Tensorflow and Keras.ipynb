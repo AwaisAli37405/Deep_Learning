{
  "nbformat": 4,
  "nbformat_minor": 0,
  "metadata": {
    "colab": {
      "provenance": [],
      "authorship_tag": "ABX9TyMk41ymYGXMmc63dVP+bFiq",
      "include_colab_link": true
    },
    "kernelspec": {
      "name": "python3",
      "display_name": "Python 3"
    },
    "language_info": {
      "name": "python"
    }
  },
  "cells": [
    {
      "cell_type": "markdown",
      "metadata": {
        "id": "view-in-github",
        "colab_type": "text"
      },
      "source": [
        "<a href=\"https://colab.research.google.com/github/AwaisAli37405/Deep_Learning/blob/master/Deep_learning%20with%20Tensorflow%20and%20Keras.ipynb\" target=\"_parent\"><img src=\"https://colab.research.google.com/assets/colab-badge.svg\" alt=\"Open In Colab\"/></a>"
      ]
    },
    {
      "cell_type": "markdown",
      "source": [
        "### TensorFlow Tensors"
      ],
      "metadata": {
        "id": "AriX1AW1tXQD"
      }
    },
    {
      "cell_type": "markdown",
      "source": [
        "- tensors are multidimensional arrays\n",
        "- ordered arrangement of numbers\n",
        "- Tensors could be of zero dimmention only if we have one element (e.g. 1) - 0D\n",
        "- Tensors could be of one dimmention ([2,0,-1]) - 1D\n",
        "- or a matrix or a 2D dimmentional matrix\n",
        "\n",
        "important:\n",
        "\n",
        "- to create a 1D array we stack up different 0D arrays, similarly to create 2D tensors we stack up multiple 1D arrays.\n",
        "- Tensors have what we call a shape\n",
        "- [2,0,-1] 1D tensor has a shape of (3,)\n",
        "- similarly for a 2D tensor we can have a shape of 4X3. (4,3)\n",
        "- for a 3D tensor (4,2,3) - 4 2D tensors, each 2D tensor has 2 rows and each row has 1D tensor of 3 cols\n"
      ],
      "metadata": {
        "id": "maaZUsz0tdUp"
      }
    },
    {
      "cell_type": "code",
      "source": [
        "# now lets see how tensors can be created using tensor flow\n",
        "import tensorflow as tf\n"
      ],
      "metadata": {
        "id": "r126Vf5quOHJ"
      },
      "execution_count": 4,
      "outputs": []
    },
    {
      "cell_type": "code",
      "source": [
        "tensor_zero_d = tf.constant(1)\n",
        "print(tensor_zero_d)"
      ],
      "metadata": {
        "id": "G4-GFsXOwdXf",
        "outputId": "dba65879-b980-4484-c478-8c819810e995",
        "colab": {
          "base_uri": "https://localhost:8080/"
        }
      },
      "execution_count": 5,
      "outputs": [
        {
          "output_type": "stream",
          "name": "stdout",
          "text": [
            "tf.Tensor(1, shape=(), dtype=int32)\n"
          ]
        }
      ]
    },
    {
      "cell_type": "code",
      "source": [
        "tensor_one_d = tf.constant([1,2,3])\n",
        "print(tensor_one_d)"
      ],
      "metadata": {
        "id": "-6xmZuo9wl9b",
        "outputId": "98fdb068-9639-49c6-bf05-dc0efe557029",
        "colab": {
          "base_uri": "https://localhost:8080/"
        }
      },
      "execution_count": 6,
      "outputs": [
        {
          "output_type": "stream",
          "name": "stdout",
          "text": [
            "tf.Tensor([1 2 3], shape=(3,), dtype=int32)\n"
          ]
        }
      ]
    },
    {
      "cell_type": "code",
      "source": [
        "tensor_two_d = tf.constant([[1,2,3],[4,5,6]])\n",
        "print(tensor_two_d)"
      ],
      "metadata": {
        "id": "4tIrSmu_w7X7",
        "outputId": "bde6ebaf-7a3e-470e-8bbc-c55126028711",
        "colab": {
          "base_uri": "https://localhost:8080/"
        }
      },
      "execution_count": 7,
      "outputs": [
        {
          "output_type": "stream",
          "name": "stdout",
          "text": [
            "tf.Tensor(\n",
            "[[1 2 3]\n",
            " [4 5 6]], shape=(2, 3), dtype=int32)\n"
          ]
        }
      ]
    },
    {
      "cell_type": "code",
      "source": [
        "tensor_three_d = tf.constant([[[1,2,3],[4,5,6]],[[7,8,9],[10,11,12]]])\n",
        "print(tensor_three_d)"
      ],
      "metadata": {
        "id": "SZaMiZEjxC9X",
        "outputId": "da215a99-f639-4495-fea2-1ee95c419b6f",
        "colab": {
          "base_uri": "https://localhost:8080/"
        }
      },
      "execution_count": 8,
      "outputs": [
        {
          "output_type": "stream",
          "name": "stdout",
          "text": [
            "tf.Tensor(\n",
            "[[[ 1  2  3]\n",
            "  [ 4  5  6]]\n",
            "\n",
            " [[ 7  8  9]\n",
            "  [10 11 12]]], shape=(2, 2, 3), dtype=int32)\n"
          ]
        }
      ]
    },
    {
      "cell_type": "code",
      "source": [
        "# similarly:\n",
        "\n",
        "tensor_three_d.ndim"
      ],
      "metadata": {
        "id": "dUG_6h4Oxj-5",
        "outputId": "24f66816-8070-42ff-a3df-a46acce49fbc",
        "colab": {
          "base_uri": "https://localhost:8080/"
        }
      },
      "execution_count": 10,
      "outputs": [
        {
          "output_type": "execute_result",
          "data": {
            "text/plain": [
              "3"
            ]
          },
          "metadata": {},
          "execution_count": 10
        }
      ]
    },
    {
      "cell_type": "code",
      "source": [
        "tensor_three_d.shape"
      ],
      "metadata": {
        "id": "oSxODS1I9W-6",
        "outputId": "7e51d2b2-56b4-424f-f9d9-ca483ac51a64",
        "colab": {
          "base_uri": "https://localhost:8080/"
        }
      },
      "execution_count": 11,
      "outputs": [
        {
          "output_type": "execute_result",
          "data": {
            "text/plain": [
              "TensorShape([2, 2, 3])"
            ]
          },
          "metadata": {},
          "execution_count": 11
        }
      ]
    },
    {
      "cell_type": "code",
      "source": [
        "# likewise to create a 4D tensor, we will see how many 3D tesors we have, then how many 2D tensors we have and then\n",
        "# then for every 2D tensors how many we have 1D tensor and then how many cols\n",
        "\n",
        "\n",
        "\n",
        "# Creating a 4D tensor\n",
        "tensor_four_d = tf.constant([\n",
        "    [  # First 3D tensor\n",
        "        [  # First 2D tensor in the first 3D tensor\n",
        "            [1, 2, 3],  # First 1D tensor in the first 2D tensor\n",
        "            [4, 5, 6]   # Second 1D tensor in the first 2D tensor\n",
        "        ],\n",
        "        [  # Second 2D tensor in the first 3D tensor\n",
        "            [7, 8, 9],  # First 1D tensor in the second 2D tensor\n",
        "            [10, 11, 12] # Second 1D tensor in the second 2D tensor\n",
        "        ]\n",
        "    ],\n",
        "    [  # Second 3D tensor\n",
        "        [  # First 2D tensor in the second 3D tensor\n",
        "            [13, 14, 15],  # First 1D tensor in the first 2D tensor\n",
        "            [16, 17, 18]   # Second 1D tensor in the first 2D tensor\n",
        "        ],\n",
        "        [  # Second 2D tensor in the second 3D tensor\n",
        "            [19, 20, 21],  # First 1D tensor in the second 2D tensor\n",
        "            [22, 23, 24]   # Second 1D tensor in the second 2D tensor\n",
        "        ]\n",
        "    ]\n",
        "])\n",
        "\n",
        "# Print the 4D tensor\n",
        "print(tensor_four_d)\n",
        "\n",
        "\n",
        "\n"
      ],
      "metadata": {
        "id": "p9VYM97S9c8D",
        "outputId": "a046b0b3-181b-4afd-9ee7-598f15512c4b",
        "colab": {
          "base_uri": "https://localhost:8080/"
        }
      },
      "execution_count": 12,
      "outputs": [
        {
          "output_type": "stream",
          "name": "stdout",
          "text": [
            "tf.Tensor(\n",
            "[[[[ 1  2  3]\n",
            "   [ 4  5  6]]\n",
            "\n",
            "  [[ 7  8  9]\n",
            "   [10 11 12]]]\n",
            "\n",
            "\n",
            " [[[13 14 15]\n",
            "   [16 17 18]]\n",
            "\n",
            "  [[19 20 21]\n",
            "   [22 23 24]]]], shape=(2, 2, 2, 3), dtype=int32)\n"
          ]
        }
      ]
    },
    {
      "cell_type": "markdown",
      "source": [
        "- when creating the tensors if we have any of the value in float then the type of tensor will be also in float"
      ],
      "metadata": {
        "id": "Qw4KVpRq-i80"
      }
    }
  ]
}