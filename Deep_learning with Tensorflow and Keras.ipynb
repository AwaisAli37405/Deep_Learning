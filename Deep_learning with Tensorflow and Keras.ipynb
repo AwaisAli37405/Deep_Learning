{
  "nbformat": 4,
  "nbformat_minor": 0,
  "metadata": {
    "colab": {
      "provenance": [],
      "authorship_tag": "ABX9TyPklnwL7Bbx7y331yfSj0IZ",
      "include_colab_link": true
    },
    "kernelspec": {
      "name": "python3",
      "display_name": "Python 3"
    },
    "language_info": {
      "name": "python"
    }
  },
  "cells": [
    {
      "cell_type": "markdown",
      "metadata": {
        "id": "view-in-github",
        "colab_type": "text"
      },
      "source": [
        "<a href=\"https://colab.research.google.com/github/AwaisAli37405/Deep_Learning/blob/master/Deep_learning%20with%20Tensorflow%20and%20Keras.ipynb\" target=\"_parent\"><img src=\"https://colab.research.google.com/assets/colab-badge.svg\" alt=\"Open In Colab\"/></a>"
      ]
    },
    {
      "cell_type": "markdown",
      "source": [
        "### TensorFlow Tensors"
      ],
      "metadata": {
        "id": "AriX1AW1tXQD"
      }
    },
    {
      "cell_type": "markdown",
      "source": [
        "- tensors are multidimensional arrays\n",
        "- ordered arrangement of numbers\n",
        "- Tensors could be of zero dimmention only if we have one element (e.g. 1) - 0D\n",
        "- Tensors could be of one dimmention ([2,0,-1]) - 1D\n",
        "- or a matrix or a 2D dimmentional matrix\n",
        "\n",
        "important:\n",
        "\n",
        "- to create a 1D array we stack up different 0D arrays, similarly to create 2D tensors we stack up multiple 1D arrays.\n",
        "- Tensors have what we call a shape\n",
        "- [2,0,-1] 1D tensor has a shape of (3,)\n",
        "- similarly for a 2D tensor we can have a shape of 4X3. (4,3)\n",
        "- for a 3D tensor (4,2,3) - 4 2D tensors, each 2D tensor has 2 rows and each row has 1D tensor of 3 cols\n"
      ],
      "metadata": {
        "id": "maaZUsz0tdUp"
      }
    },
    {
      "cell_type": "code",
      "source": [
        "# now lets see how tensors can be created using tensor flow\n",
        "import tensorflow as tf\n"
      ],
      "metadata": {
        "id": "r126Vf5quOHJ"
      },
      "execution_count": 4,
      "outputs": []
    },
    {
      "cell_type": "code",
      "source": [
        "tensor_zero_d = tf.constant(1)\n",
        "print(tensor_zero_d)"
      ],
      "metadata": {
        "colab": {
          "base_uri": "https://localhost:8080/"
        },
        "id": "G4-GFsXOwdXf",
        "outputId": "dba65879-b980-4484-c478-8c819810e995"
      },
      "execution_count": 5,
      "outputs": [
        {
          "output_type": "stream",
          "name": "stdout",
          "text": [
            "tf.Tensor(1, shape=(), dtype=int32)\n"
          ]
        }
      ]
    },
    {
      "cell_type": "code",
      "source": [
        "tensor_one_d = tf.constant([1,2,3])\n",
        "print(tensor_one_d)"
      ],
      "metadata": {
        "colab": {
          "base_uri": "https://localhost:8080/"
        },
        "id": "-6xmZuo9wl9b",
        "outputId": "98fdb068-9639-49c6-bf05-dc0efe557029"
      },
      "execution_count": 6,
      "outputs": [
        {
          "output_type": "stream",
          "name": "stdout",
          "text": [
            "tf.Tensor([1 2 3], shape=(3,), dtype=int32)\n"
          ]
        }
      ]
    },
    {
      "cell_type": "code",
      "source": [
        "tensor_two_d = tf.constant([[1,2,3],[4,5,6]])\n",
        "print(tensor_two_d)"
      ],
      "metadata": {
        "colab": {
          "base_uri": "https://localhost:8080/"
        },
        "id": "4tIrSmu_w7X7",
        "outputId": "bde6ebaf-7a3e-470e-8bbc-c55126028711"
      },
      "execution_count": 7,
      "outputs": [
        {
          "output_type": "stream",
          "name": "stdout",
          "text": [
            "tf.Tensor(\n",
            "[[1 2 3]\n",
            " [4 5 6]], shape=(2, 3), dtype=int32)\n"
          ]
        }
      ]
    },
    {
      "cell_type": "code",
      "source": [
        "tensor_three_d = tf.constant([[[1,2,3],[4,5,6]],[[7,8,9],[10,11,12]]])\n",
        "print(tensor_three_d)"
      ],
      "metadata": {
        "colab": {
          "base_uri": "https://localhost:8080/"
        },
        "id": "SZaMiZEjxC9X",
        "outputId": "da215a99-f639-4495-fea2-1ee95c419b6f"
      },
      "execution_count": 8,
      "outputs": [
        {
          "output_type": "stream",
          "name": "stdout",
          "text": [
            "tf.Tensor(\n",
            "[[[ 1  2  3]\n",
            "  [ 4  5  6]]\n",
            "\n",
            " [[ 7  8  9]\n",
            "  [10 11 12]]], shape=(2, 2, 3), dtype=int32)\n"
          ]
        }
      ]
    },
    {
      "cell_type": "code",
      "source": [
        "# similarly:\n",
        "\n",
        "tensor_three_d.ndim"
      ],
      "metadata": {
        "colab": {
          "base_uri": "https://localhost:8080/"
        },
        "id": "dUG_6h4Oxj-5",
        "outputId": "24f66816-8070-42ff-a3df-a46acce49fbc"
      },
      "execution_count": 10,
      "outputs": [
        {
          "output_type": "execute_result",
          "data": {
            "text/plain": [
              "3"
            ]
          },
          "metadata": {},
          "execution_count": 10
        }
      ]
    },
    {
      "cell_type": "code",
      "source": [
        "tensor_three_d.shape"
      ],
      "metadata": {
        "colab": {
          "base_uri": "https://localhost:8080/"
        },
        "id": "oSxODS1I9W-6",
        "outputId": "7e51d2b2-56b4-424f-f9d9-ca483ac51a64"
      },
      "execution_count": 11,
      "outputs": [
        {
          "output_type": "execute_result",
          "data": {
            "text/plain": [
              "TensorShape([2, 2, 3])"
            ]
          },
          "metadata": {},
          "execution_count": 11
        }
      ]
    },
    {
      "cell_type": "code",
      "source": [
        "# likewise to create a 4D tensor, we will see how many 3D tesors we have, then how many 2D tensors we have and then\n",
        "# then for every 2D tensors how many we have 1D tensor and then how many cols\n",
        "\n",
        "\n",
        "\n",
        "# Creating a 4D tensor\n",
        "tensor_four_d = tf.constant([\n",
        "    [  # First 3D tensor\n",
        "        [  # First 2D tensor in the first 3D tensor\n",
        "            [1, 2, 3],  # First 1D tensor in the first 2D tensor\n",
        "            [4, 5, 6]   # Second 1D tensor in the first 2D tensor\n",
        "        ],\n",
        "        [  # Second 2D tensor in the first 3D tensor\n",
        "            [7, 8, 9],  # First 1D tensor in the second 2D tensor\n",
        "            [10, 11, 12] # Second 1D tensor in the second 2D tensor\n",
        "        ]\n",
        "    ],\n",
        "    [  # Second 3D tensor\n",
        "        [  # First 2D tensor in the second 3D tensor\n",
        "            [13, 14, 15],  # First 1D tensor in the first 2D tensor\n",
        "            [16, 17, 18]   # Second 1D tensor in the first 2D tensor\n",
        "        ],\n",
        "        [  # Second 2D tensor in the second 3D tensor\n",
        "            [19, 20, 21],  # First 1D tensor in the second 2D tensor\n",
        "            [22, 23, 24]   # Second 1D tensor in the second 2D tensor\n",
        "        ]\n",
        "    ]\n",
        "])\n",
        "\n",
        "# Print the 4D tensor\n",
        "print(tensor_four_d)\n",
        "\n",
        "\n",
        "\n"
      ],
      "metadata": {
        "colab": {
          "base_uri": "https://localhost:8080/"
        },
        "id": "p9VYM97S9c8D",
        "outputId": "a046b0b3-181b-4afd-9ee7-598f15512c4b"
      },
      "execution_count": 12,
      "outputs": [
        {
          "output_type": "stream",
          "name": "stdout",
          "text": [
            "tf.Tensor(\n",
            "[[[[ 1  2  3]\n",
            "   [ 4  5  6]]\n",
            "\n",
            "  [[ 7  8  9]\n",
            "   [10 11 12]]]\n",
            "\n",
            "\n",
            " [[[13 14 15]\n",
            "   [16 17 18]]\n",
            "\n",
            "  [[19 20 21]\n",
            "   [22 23 24]]]], shape=(2, 2, 2, 3), dtype=int32)\n"
          ]
        }
      ]
    },
    {
      "cell_type": "markdown",
      "source": [
        "- when creating the tensors if we have any of the value in float then the type of tensor will be also in float"
      ],
      "metadata": {
        "id": "Qw4KVpRq-i80"
      }
    },
    {
      "cell_type": "code",
      "source": [
        "# casting tensor using tensor flow\n",
        "casted_one_d = tf.cast(tensor_one_d, dtype=tf.float16)\n",
        "print(tensor_one_d)\n",
        "print(casted_one_d)"
      ],
      "metadata": {
        "id": "WBsPPYry-v6v",
        "outputId": "bb30bf1d-1654-447c-e66e-840ee37c9538",
        "colab": {
          "base_uri": "https://localhost:8080/"
        }
      },
      "execution_count": 14,
      "outputs": [
        {
          "output_type": "stream",
          "name": "stdout",
          "text": [
            "tf.Tensor([1 2 3], shape=(3,), dtype=int32)\n",
            "tf.Tensor([1. 2. 3.], shape=(3,), dtype=float16)\n"
          ]
        }
      ]
    },
    {
      "cell_type": "code",
      "source": [
        "# converitng to tensors\n",
        "import numpy as np\n",
        "numpy_array = np.array([1,2,3])\n",
        "print(numpy_array)\n",
        "\n",
        "numpy_tensor = tf.convert_to_tensor(numpy_array)\n",
        "print(numpy_tensor)\n",
        "\n",
        "\n"
      ],
      "metadata": {
        "id": "3uLpuhXhCOBc",
        "outputId": "4c7a6bd0-b5ad-473b-9402-29b27a80e3e6",
        "colab": {
          "base_uri": "https://localhost:8080/"
        }
      },
      "execution_count": 15,
      "outputs": [
        {
          "output_type": "stream",
          "name": "stdout",
          "text": [
            "[1 2 3]\n",
            "tf.Tensor([1 2 3], shape=(3,), dtype=int64)\n"
          ]
        }
      ]
    },
    {
      "cell_type": "code",
      "source": [
        "# creating the identity matrix using tf.eye\n",
        "\n",
        "identify_matrix = tf.eye(num_rows=5, num_columns=3,batch_shape=[2])\n",
        "print(identify_matrix)\n",
        "#"
      ],
      "metadata": {
        "id": "C2gf9b1MCoJ2",
        "outputId": "47d0faa6-f627-4daa-b332-673c95a37626",
        "colab": {
          "base_uri": "https://localhost:8080/"
        }
      },
      "execution_count": 23,
      "outputs": [
        {
          "output_type": "stream",
          "name": "stdout",
          "text": [
            "tf.Tensor(\n",
            "[[[1. 0. 0.]\n",
            "  [0. 1. 0.]\n",
            "  [0. 0. 1.]\n",
            "  [0. 0. 0.]\n",
            "  [0. 0. 0.]]\n",
            "\n",
            " [[1. 0. 0.]\n",
            "  [0. 1. 0.]\n",
            "  [0. 0. 1.]\n",
            "  [0. 0. 0.]\n",
            "  [0. 0. 0.]]], shape=(2, 5, 3), dtype=float32)\n"
          ]
        }
      ]
    },
    {
      "cell_type": "code",
      "source": [
        "filled_tensor = tf.fill([2,3], 9)\n",
        "print(filled_tensor)"
      ],
      "metadata": {
        "id": "bFUyiVOzDCn1",
        "outputId": "d6a66b83-0bde-4f64-8449-ff67edbfb74f",
        "colab": {
          "base_uri": "https://localhost:8080/"
        }
      },
      "execution_count": 24,
      "outputs": [
        {
          "output_type": "stream",
          "name": "stdout",
          "text": [
            "tf.Tensor(\n",
            "[[9 9 9]\n",
            " [9 9 9]], shape=(2, 3), dtype=int32)\n"
          ]
        }
      ]
    },
    {
      "cell_type": "code",
      "source": [
        "ones_tensor = tf.ones([2,3])\n",
        "print(ones_tensor)"
      ],
      "metadata": {
        "id": "bIVXk3D5GMcy",
        "outputId": "7648a8fa-e7e4-4de3-ec27-6395a70cd125",
        "colab": {
          "base_uri": "https://localhost:8080/"
        }
      },
      "execution_count": 25,
      "outputs": [
        {
          "output_type": "stream",
          "name": "stdout",
          "text": [
            "tf.Tensor(\n",
            "[[1. 1. 1.]\n",
            " [1. 1. 1.]], shape=(2, 3), dtype=float32)\n"
          ]
        }
      ]
    },
    {
      "cell_type": "code",
      "source": [
        "tensor_oneslike = tf.ones_like(tensor_one_d)\n",
        "print(tensor_oneslike)"
      ],
      "metadata": {
        "id": "kHfm13ZvGSaa",
        "outputId": "4f66982d-4479-45f9-ca79-0f9df4c7fdf1",
        "colab": {
          "base_uri": "https://localhost:8080/"
        }
      },
      "execution_count": 26,
      "outputs": [
        {
          "output_type": "stream",
          "name": "stdout",
          "text": [
            "tf.Tensor([1 1 1], shape=(3,), dtype=int32)\n"
          ]
        }
      ]
    },
    {
      "cell_type": "code",
      "source": [
        "range_tensor = tf.range(start=1, limit=10, delta=2)\n",
        "print(range_tensor)"
      ],
      "metadata": {
        "id": "poVKzN-3H6F9",
        "outputId": "b7f20b68-0c96-46a7-95eb-e6fa03536e7f",
        "colab": {
          "base_uri": "https://localhost:8080/"
        }
      },
      "execution_count": 27,
      "outputs": [
        {
          "output_type": "stream",
          "name": "stdout",
          "text": [
            "tf.Tensor([1 3 5 7 9], shape=(5,), dtype=int32)\n"
          ]
        }
      ]
    },
    {
      "cell_type": "code",
      "source": [
        "# size gives the number of elements\n",
        "size_tensor = tf.size(range_tensor)\n",
        "print(size_tensor)"
      ],
      "metadata": {
        "id": "3NW5razwIM0i",
        "outputId": "02096301-ec07-4925-c798-7500ff9a55f1",
        "colab": {
          "base_uri": "https://localhost:8080/"
        }
      },
      "execution_count": 28,
      "outputs": [
        {
          "output_type": "stream",
          "name": "stdout",
          "text": [
            "tf.Tensor(5, shape=(), dtype=int32)\n"
          ]
        }
      ]
    },
    {
      "cell_type": "code",
      "source": [
        "print(tf.size(tensor_four_d))"
      ],
      "metadata": {
        "id": "fX12ObWjIgve",
        "outputId": "8fdb432c-110b-404f-f2c3-a7f002adfc46",
        "colab": {
          "base_uri": "https://localhost:8080/"
        }
      },
      "execution_count": 30,
      "outputs": [
        {
          "output_type": "stream",
          "name": "stdout",
          "text": [
            "tf.Tensor(24, shape=(), dtype=int32)\n"
          ]
        }
      ]
    },
    {
      "cell_type": "code",
      "source": [
        "tf.random.Generator.from_non_deterministic_state().normal(shape=(2,3))"
      ],
      "metadata": {
        "id": "zh0cSjFlIlkA",
        "outputId": "4580bd3e-cc96-45c6-f716-cf1582f00ca8",
        "colab": {
          "base_uri": "https://localhost:8080/"
        }
      },
      "execution_count": 31,
      "outputs": [
        {
          "output_type": "execute_result",
          "data": {
            "text/plain": [
              "<tf.Tensor: shape=(2, 3), dtype=float32, numpy=\n",
              "array([[ 0.7186693 , -0.06688397, -0.8401798 ],\n",
              "       [ 0.7212655 ,  0.1167876 , -1.3126295 ]], dtype=float32)>"
            ]
          },
          "metadata": {},
          "execution_count": 31
        }
      ]
    },
    {
      "cell_type": "code",
      "source": [
        "tf.random.Generator.from_seed(42).normal(shape=(2,3))# we will get the same random numbers every time we run"
      ],
      "metadata": {
        "id": "umvpchonJOVA",
        "outputId": "83a2e500-a4c0-49b9-9b02-74e3a0d5bb31",
        "colab": {
          "base_uri": "https://localhost:8080/"
        }
      },
      "execution_count": 32,
      "outputs": [
        {
          "output_type": "execute_result",
          "data": {
            "text/plain": [
              "<tf.Tensor: shape=(2, 3), dtype=float32, numpy=\n",
              "array([[-0.7565803 , -0.06854702,  0.07595026],\n",
              "       [-1.2573844 , -0.23193763, -1.8107855 ]], dtype=float32)>"
            ]
          },
          "metadata": {},
          "execution_count": 32
        }
      ]
    },
    {
      "cell_type": "code",
      "source": [],
      "metadata": {
        "id": "B2OKvU7TJSL1"
      },
      "execution_count": null,
      "outputs": []
    }
  ]
}